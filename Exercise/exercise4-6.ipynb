{
 "cells": [
  {
   "cell_type": "code",
   "execution_count": 9,
   "id": "a320460f-2ebc-4938-b112-cd366c1c1693",
   "metadata": {},
   "outputs": [],
   "source": [
    "def count (n):\n",
    "    while(n>0):\n",
    "        print(n)\n",
    "        n = n - 1\n",
    "    print(\"stop\")"
   ]
  },
  {
   "cell_type": "code",
   "execution_count": 12,
   "id": "d0b00c53-fa11-43f9-af9d-645e1f79d9a3",
   "metadata": {},
   "outputs": [
    {
     "name": "stdout",
     "output_type": "stream",
     "text": [
      "3\n",
      "2\n",
      "1\n",
      "stop\n"
     ]
    }
   ],
   "source": [
    "count(3)"
   ]
  },
  {
   "cell_type": "code",
   "execution_count": 17,
   "id": "55eee55c-5b83-4247-9b15-6623012b3f17",
   "metadata": {},
   "outputs": [],
   "source": [
    "def count (n):\n",
    "    while(n>0):\n",
    "        print(n)\n",
    "        n = n - 1\n",
    "        break\n",
    "    print(n)\n",
    "    print(\"stop\")\n",
    "    "
   ]
  },
  {
   "cell_type": "code",
   "execution_count": 18,
   "id": "298b1fd4-973d-4b9a-959f-7c8548dd7340",
   "metadata": {},
   "outputs": [
    {
     "name": "stdout",
     "output_type": "stream",
     "text": [
      "3\n",
      "2\n",
      "stop\n"
     ]
    }
   ],
   "source": [
    "count(3)"
   ]
  },
  {
   "cell_type": "code",
   "execution_count": null,
   "id": "daf5ffc3-b9ff-40fa-b40c-657062178c71",
   "metadata": {},
   "outputs": [],
   "source": []
  }
 ],
 "metadata": {
  "kernelspec": {
   "display_name": "Python 3 (ipykernel)",
   "language": "python",
   "name": "python3"
  },
  "language_info": {
   "codemirror_mode": {
    "name": "ipython",
    "version": 3
   },
   "file_extension": ".py",
   "mimetype": "text/x-python",
   "name": "python",
   "nbconvert_exporter": "python",
   "pygments_lexer": "ipython3",
   "version": "3.12.0"
  }
 },
 "nbformat": 4,
 "nbformat_minor": 5
}
