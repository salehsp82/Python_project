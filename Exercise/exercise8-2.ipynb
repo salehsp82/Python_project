{
 "cells": [
  {
   "cell_type": "code",
   "execution_count": 2,
   "id": "2a744c45-8098-4a45-86e6-6038f76b21c7",
   "metadata": {},
   "outputs": [
    {
     "name": "stdout",
     "output_type": "stream",
     "text": [
      "Upper Case Letters: ['H', 'W']\n",
      "Lower Case Letters: ['e', 'l', 'l', 'o', 'o', 'r', 'l', 'd']\n",
      "Symbols: [' ', '!', ' ', '1', '2', '3']\n"
     ]
    }
   ],
   "source": [
    "def separate_characters(input_string):\n",
    "    uppercase_letters = []\n",
    "    lowercase_letters = []\n",
    "    symbols = []\n",
    "\n",
    "    for char in input_string:\n",
    "        if char.isalpha():\n",
    "            if char.isupper():\n",
    "                uppercase_letters.append(char)\n",
    "            else:\n",
    "                lowercase_letters.append(char)\n",
    "        else:\n",
    "            symbols.append(char)\n",
    "\n",
    "    return uppercase_letters, lowercase_letters, symbols\n",
    "\n",
    "# مثال اجرا\n",
    "input_str = \"Hello World! 123\"\n",
    "result = separate_characters(input_str)\n",
    "print(\"Upper Case Letters:\", result[0])\n",
    "print(\"Lower Case Letters:\", result[1])\n",
    "print(\"Symbols:\", result[2])\n",
    "\n",
    "### Chat GPT"
   ]
  },
  {
   "cell_type": "code",
   "execution_count": null,
   "id": "eb699e3f-2ef1-4e27-b056-cdce6aeac812",
   "metadata": {},
   "outputs": [],
   "source": []
  }
 ],
 "metadata": {
  "kernelspec": {
   "display_name": "Python 3 (ipykernel)",
   "language": "python",
   "name": "python3"
  },
  "language_info": {
   "codemirror_mode": {
    "name": "ipython",
    "version": 3
   },
   "file_extension": ".py",
   "mimetype": "text/x-python",
   "name": "python",
   "nbconvert_exporter": "python",
   "pygments_lexer": "ipython3",
   "version": "3.12.0"
  }
 },
 "nbformat": 4,
 "nbformat_minor": 5
}
