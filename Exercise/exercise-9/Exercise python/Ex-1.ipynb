{
 "cells": [
  {
   "cell_type": "code",
   "execution_count": 3,
   "id": "ca5bc9fe-2598-4e1a-be81-993d8cc03742",
   "metadata": {},
   "outputs": [
    {
     "name": "stdout",
     "output_type": "stream",
     "text": [
      "[0, 1, 1, 2, 3, 5, 8, 13, 21, 34, 55, 89, 144, 233, 377, 610, 987]\n"
     ]
    }
   ],
   "source": [
    "# fibonacci \n",
    "def fib (n):\n",
    "    l1 = []\n",
    "    a , b = 0 , 1\n",
    "    while a < n :\n",
    "        l1.append(a)\n",
    "        a , b = b , a + b\n",
    "    print(l1)\n",
    "\n",
    "fib(1000)"
   ]
  },
  {
   "cell_type": "code",
   "execution_count": null,
   "id": "9d5627ff-cdc9-4794-8dea-ddec4703ec40",
   "metadata": {},
   "outputs": [],
   "source": []
  }
 ],
 "metadata": {
  "kernelspec": {
   "display_name": "Python 3 (ipykernel)",
   "language": "python",
   "name": "python3"
  },
  "language_info": {
   "codemirror_mode": {
    "name": "ipython",
    "version": 3
   },
   "file_extension": ".py",
   "mimetype": "text/x-python",
   "name": "python",
   "nbconvert_exporter": "python",
   "pygments_lexer": "ipython3",
   "version": "3.12.0"
  }
 },
 "nbformat": 4,
 "nbformat_minor": 5
}
