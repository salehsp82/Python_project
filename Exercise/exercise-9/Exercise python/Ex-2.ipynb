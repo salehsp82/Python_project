{
 "cells": [
  {
   "cell_type": "code",
   "execution_count": 13,
   "id": "76fa3479-5f33-4d5d-9292-1b81c82cc990",
   "metadata": {},
   "outputs": [
    {
     "data": {
      "text/plain": [
       "[1, 4, 5, 8, 6, 7, 9]"
      ]
     },
     "execution_count": 13,
     "metadata": {},
     "output_type": "execute_result"
    }
   ],
   "source": [
    "#remove_duplicates\n",
    "def rd (lst):\n",
    "    l1 = []\n",
    "    for item in lst:\n",
    "        if item not in l1:\n",
    "            l1.append(item)\n",
    "    return(l1)\n",
    "\n",
    "\n",
    "l2 = [1,4,5,8,6,8,6,7,1,4,6,9,7,4,5,]\n",
    "rd(l2)"
   ]
  }
 ],
 "metadata": {
  "kernelspec": {
   "display_name": "Python 3 (ipykernel)",
   "language": "python",
   "name": "python3"
  },
  "language_info": {
   "codemirror_mode": {
    "name": "ipython",
    "version": 3
   },
   "file_extension": ".py",
   "mimetype": "text/x-python",
   "name": "python",
   "nbconvert_exporter": "python",
   "pygments_lexer": "ipython3",
   "version": "3.12.0"
  }
 },
 "nbformat": 4,
 "nbformat_minor": 5
}
