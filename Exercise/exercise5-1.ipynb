{
 "cells": [
  {
   "cell_type": "code",
   "execution_count": 9,
   "id": "d9bcef91-3e97-4b7c-96b6-657126010d7b",
   "metadata": {},
   "outputs": [
    {
     "ename": "NameError",
     "evalue": "name 'opp' is not defined",
     "output_type": "error",
     "traceback": [
      "\u001b[1;31m---------------------------------------------------------------------------\u001b[0m",
      "\u001b[1;31mNameError\u001b[0m                                 Traceback (most recent call last)",
      "Cell \u001b[1;32mIn[9], line 13\u001b[0m\n\u001b[0;32m     10\u001b[0m     z \u001b[38;5;241m=\u001b[39m sin(x)\u001b[38;5;241m+\u001b[39mcos(y)\n\u001b[0;32m     11\u001b[0m     \u001b[38;5;28mprint\u001b[39m(z)\n\u001b[1;32m---> 13\u001b[0m \u001b[43ma1\u001b[49m\u001b[43m(\u001b[49m\u001b[38;5;241;43m7\u001b[39;49m\u001b[43m,\u001b[49m\u001b[38;5;241;43m8\u001b[39;49m\u001b[43m)\u001b[49m\n",
      "Cell \u001b[1;32mIn[9], line 10\u001b[0m, in \u001b[0;36ma1\u001b[1;34m(x, y)\u001b[0m\n\u001b[0;32m      9\u001b[0m \u001b[38;5;28;01mdef\u001b[39;00m \u001b[38;5;21ma1\u001b[39m (x,y):\n\u001b[1;32m---> 10\u001b[0m     z \u001b[38;5;241m=\u001b[39m \u001b[43msin\u001b[49m\u001b[43m(\u001b[49m\u001b[43mx\u001b[49m\u001b[43m)\u001b[49m\u001b[38;5;241m+\u001b[39mcos(y)\n\u001b[0;32m     11\u001b[0m     \u001b[38;5;28mprint\u001b[39m(z)\n",
      "Cell \u001b[1;32mIn[9], line 2\u001b[0m, in \u001b[0;36msin\u001b[1;34m(x)\u001b[0m\n\u001b[0;32m      1\u001b[0m \u001b[38;5;28;01mdef\u001b[39;00m \u001b[38;5;21msin\u001b[39m (x):\n\u001b[1;32m----> 2\u001b[0m     x \u001b[38;5;241m=\u001b[39m \u001b[43mopp\u001b[49m\u001b[38;5;241m/\u001b[39mhyp\n\u001b[0;32m      3\u001b[0m     \u001b[38;5;28mprint\u001b[39m(x)\n",
      "\u001b[1;31mNameError\u001b[0m: name 'opp' is not defined"
     ]
    }
   ],
   "source": [
    "def sin (x):\n",
    "    x = opp/hyp\n",
    "    print(x)\n",
    "\n",
    "def cos (x):\n",
    "    x = opp/adj\n",
    "    print(x)\n",
    "\n",
    "def a1 (x,y):\n",
    "    z = sin(x)+cos(y)\n",
    "    print(z)\n",
    "\n",
    "a1(7,8)"
   ]
  },
  {
   "cell_type": "code",
   "execution_count": null,
   "id": "b65b4918-b7ce-4c90-92eb-0b502486341c",
   "metadata": {},
   "outputs": [],
   "source": []
  }
 ],
 "metadata": {
  "kernelspec": {
   "display_name": "Python 3 (ipykernel)",
   "language": "python",
   "name": "python3"
  },
  "language_info": {
   "codemirror_mode": {
    "name": "ipython",
    "version": 3
   },
   "file_extension": ".py",
   "mimetype": "text/x-python",
   "name": "python",
   "nbconvert_exporter": "python",
   "pygments_lexer": "ipython3",
   "version": "3.12.0"
  }
 },
 "nbformat": 4,
 "nbformat_minor": 5
}
