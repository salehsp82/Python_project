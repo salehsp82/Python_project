{
 "cells": [
  {
   "cell_type": "code",
   "execution_count": 21,
   "id": "2dec5447-978a-43d7-97a2-4cdcb2f08261",
   "metadata": {},
   "outputs": [
    {
     "name": "stdout",
     "output_type": "stream",
     "text": [
      "[]\n"
     ]
    }
   ],
   "source": [
    "l1 = [1, 5, 8, 10, 7]\n",
    "\n",
    "for i in range(len(l1)-1, -1, -1):\n",
    "    l1.remove(l1[i])\n",
    "\n",
    "print(l1)"
   ]
  },
  {
   "cell_type": "code",
   "execution_count": 22,
   "id": "c3880b8b-da94-45a2-a93f-18f620b73a74",
   "metadata": {},
   "outputs": [
    {
     "name": "stdout",
     "output_type": "stream",
     "text": [
      "[]\n"
     ]
    }
   ],
   "source": [
    "l1 = [1, 5, 8, 10, 7]\n",
    "\n",
    "for _ in range(len(l1)):\n",
    "    l1.pop()\n",
    "\n",
    "print(l1)"
   ]
  },
  {
   "cell_type": "code",
   "execution_count": 23,
   "id": "5d8402c7-d18d-42ed-8763-bc2e9187f283",
   "metadata": {},
   "outputs": [
    {
     "name": "stdout",
     "output_type": "stream",
     "text": [
      "[]\n"
     ]
    }
   ],
   "source": [
    "l1 = [1, 5, 8, 10, 7]\n",
    "\n",
    "for _ in range(len(l1)):\n",
    "    del l1[0]\n",
    "\n",
    "print(l1)"
   ]
  },
  {
   "cell_type": "code",
   "execution_count": 24,
   "id": "6563005d-3e71-4ed3-94fd-7081dfd712bb",
   "metadata": {},
   "outputs": [
    {
     "name": "stdout",
     "output_type": "stream",
     "text": [
      "[]\n"
     ]
    }
   ],
   "source": [
    "l1 = [1, 5, 8, 10, 7]\n",
    "\n",
    "for _ in l1[:]:\n",
    "    l1 = l1[1:]\n",
    "\n",
    "print(l1)"
   ]
  },
  {
   "cell_type": "code",
   "execution_count": null,
   "id": "61d8d688-8dd4-4c92-b178-f9d48746feac",
   "metadata": {},
   "outputs": [],
   "source": [
    "### Chat GPT"
   ]
  }
 ],
 "metadata": {
  "kernelspec": {
   "display_name": "Python 3 (ipykernel)",
   "language": "python",
   "name": "python3"
  },
  "language_info": {
   "codemirror_mode": {
    "name": "ipython",
    "version": 3
   },
   "file_extension": ".py",
   "mimetype": "text/x-python",
   "name": "python",
   "nbconvert_exporter": "python",
   "pygments_lexer": "ipython3",
   "version": "3.12.0"
  }
 },
 "nbformat": 4,
 "nbformat_minor": 5
}
