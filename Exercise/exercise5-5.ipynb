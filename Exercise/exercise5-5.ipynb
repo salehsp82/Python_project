{
 "cells": [
  {
   "cell_type": "code",
   "execution_count": 3,
   "id": "27991dff-d9d7-441a-a43c-e065e1a611e7",
   "metadata": {},
   "outputs": [
    {
     "name": "stdin",
     "output_type": "stream",
     "text": [
      "Enter your name:  saleh\n"
     ]
    },
    {
     "name": "stdout",
     "output_type": "stream",
     "text": [
      "s\n",
      "a\n",
      "l\n",
      "e\n",
      "h\n"
     ]
    }
   ],
   "source": [
    "def a5(name):\n",
    "    for n in range(len(name)):\n",
    "        print(name[n])\n",
    "\n",
    "input_name = input(\"Enter your name: \")\n",
    "a5(input_name)\n",
    "\n",
    "#Chat GPT"
   ]
  },
  {
   "cell_type": "code",
   "execution_count": null,
   "id": "eb7bd4af-6ce9-43ed-bd82-191822bb8509",
   "metadata": {},
   "outputs": [],
   "source": []
  }
 ],
 "metadata": {
  "kernelspec": {
   "display_name": "Python 3 (ipykernel)",
   "language": "python",
   "name": "python3"
  },
  "language_info": {
   "codemirror_mode": {
    "name": "ipython",
    "version": 3
   },
   "file_extension": ".py",
   "mimetype": "text/x-python",
   "name": "python",
   "nbconvert_exporter": "python",
   "pygments_lexer": "ipython3",
   "version": "3.12.0"
  }
 },
 "nbformat": 4,
 "nbformat_minor": 5
}
