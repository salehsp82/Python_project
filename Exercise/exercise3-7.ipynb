{
 "cells": [
  {
   "cell_type": "code",
   "execution_count": 14,
   "id": "cc626193-63ee-4450-b9fb-90a744293543",
   "metadata": {},
   "outputs": [],
   "source": [
    "def countdown (n,s):\n",
    "    if (n==0):\n",
    "        print(\"stop\")\n",
    "        #زمانی متوقف می شود که متغیر صفر شود\n",
    "    else :\n",
    "        print(n)\n",
    "        print(s)\n",
    "        countdown(n -s,s)\n",
    "        #اگر متغیر  صفر نبود به اندازه متغیر دیگر از ان کم می شود این انقدر اتفاق می افتد تا صفر شود"
   ]
  },
  {
   "cell_type": "code",
   "execution_count": 15,
   "id": "c03e9e9b-15d8-4ee2-b106-673987e3bbd4",
   "metadata": {},
   "outputs": [
    {
     "name": "stdout",
     "output_type": "stream",
     "text": [
      "5\n",
      "1\n",
      "4\n",
      "1\n",
      "3\n",
      "1\n",
      "2\n",
      "1\n",
      "1\n",
      "1\n",
      "stop\n"
     ]
    }
   ],
   "source": [
    "countdown(5,1)"
   ]
  },
  {
   "cell_type": "code",
   "execution_count": null,
   "id": "8d504d9b-6341-462e-af67-7b38da8c248b",
   "metadata": {},
   "outputs": [],
   "source": []
  }
 ],
 "metadata": {
  "kernelspec": {
   "display_name": "Python 3 (ipykernel)",
   "language": "python",
   "name": "python3"
  },
  "language_info": {
   "codemirror_mode": {
    "name": "ipython",
    "version": 3
   },
   "file_extension": ".py",
   "mimetype": "text/x-python",
   "name": "python",
   "nbconvert_exporter": "python",
   "pygments_lexer": "ipython3",
   "version": "3.12.0"
  }
 },
 "nbformat": 4,
 "nbformat_minor": 5
}
