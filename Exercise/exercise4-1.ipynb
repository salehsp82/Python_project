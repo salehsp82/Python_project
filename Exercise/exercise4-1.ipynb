{
 "cells": [
  {
   "cell_type": "code",
   "execution_count": 6,
   "id": "cdf1d32b-bd5c-457b-a6ae-a7102435759d",
   "metadata": {},
   "outputs": [],
   "source": [
    "def absolute(num):\n",
    "    absolute_value = abs(num)\n",
    "    print(absolute_value)"
   ]
  },
  {
   "cell_type": "code",
   "execution_count": 7,
   "id": "d607bf8d-2b10-4dff-998b-7eb62b4b3c31",
   "metadata": {},
   "outputs": [
    {
     "name": "stdout",
     "output_type": "stream",
     "text": [
      "9\n"
     ]
    }
   ],
   "source": [
    "absolute(-9)"
   ]
  },
  {
   "cell_type": "code",
   "execution_count": null,
   "id": "328d5dbe-d1b3-4311-bbf5-0394c72de484",
   "metadata": {},
   "outputs": [],
   "source": []
  }
 ],
 "metadata": {
  "kernelspec": {
   "display_name": "Python 3 (ipykernel)",
   "language": "python",
   "name": "python3"
  },
  "language_info": {
   "codemirror_mode": {
    "name": "ipython",
    "version": 3
   },
   "file_extension": ".py",
   "mimetype": "text/x-python",
   "name": "python",
   "nbconvert_exporter": "python",
   "pygments_lexer": "ipython3",
   "version": "3.12.0"
  }
 },
 "nbformat": 4,
 "nbformat_minor": 5
}
