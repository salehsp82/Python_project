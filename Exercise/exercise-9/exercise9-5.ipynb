{
 "cells": [
  {
   "cell_type": "code",
   "execution_count": 1,
   "id": "f550711e-3874-433b-8427-85b6b67f4726",
   "metadata": {
    "editable": true,
    "slideshow": {
     "slide_type": ""
    },
    "tags": []
   },
   "outputs": [],
   "source": [
    "a = {'A':23,'C':55,'B':12,'F':33}"
   ]
  },
  {
   "cell_type": "code",
   "execution_count": 4,
   "id": "12e5829f-2cdc-4dc6-b64f-2954b6c6538c",
   "metadata": {},
   "outputs": [
    {
     "name": "stdout",
     "output_type": "stream",
     "text": [
      "A 23\n",
      "C 55\n",
      "B 12\n",
      "F 33\n"
     ]
    }
   ],
   "source": [
    "for key, value in a.items():\n",
    "    print(key,value)"
   ]
  },
  {
   "cell_type": "code",
   "execution_count": null,
   "id": "24d84516-592f-4528-95d3-c3faffa35ed5",
   "metadata": {},
   "outputs": [],
   "source": [
    "# Chat GPT"
   ]
  }
 ],
 "metadata": {
  "kernelspec": {
   "display_name": "Python 3 (ipykernel)",
   "language": "python",
   "name": "python3"
  },
  "language_info": {
   "codemirror_mode": {
    "name": "ipython",
    "version": 3
   },
   "file_extension": ".py",
   "mimetype": "text/x-python",
   "name": "python",
   "nbconvert_exporter": "python",
   "pygments_lexer": "ipython3",
   "version": "3.12.0"
  }
 },
 "nbformat": 4,
 "nbformat_minor": 5
}
