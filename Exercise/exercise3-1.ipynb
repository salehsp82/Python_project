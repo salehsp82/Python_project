{
 "cells": [
  {
   "cell_type": "code",
   "execution_count": 11,
   "id": "6632f847-3667-4318-a37d-4c209f5deaf1",
   "metadata": {},
   "outputs": [],
   "source": [
    "def nfa (name,family,age):\n",
    "    return(print(name),print(family),print(age))"
   ]
  },
  {
   "cell_type": "code",
   "execution_count": 12,
   "id": "f66795ed-9fdf-4077-8675-54a4f1726d23",
   "metadata": {},
   "outputs": [
    {
     "name": "stdout",
     "output_type": "stream",
     "text": [
      "Saleh\n",
      "Sam\n",
      "20\n"
     ]
    },
    {
     "data": {
      "text/plain": [
       "(None, None, None)"
      ]
     },
     "execution_count": 12,
     "metadata": {},
     "output_type": "execute_result"
    }
   ],
   "source": [
    "nfa (\"Saleh\",\"Sam\",20)"
   ]
  },
  {
   "cell_type": "code",
   "execution_count": null,
   "id": "6da11286-2ee5-4978-a5db-8e270eaf763d",
   "metadata": {},
   "outputs": [],
   "source": []
  }
 ],
 "metadata": {
  "kernelspec": {
   "display_name": "Python 3 (ipykernel)",
   "language": "python",
   "name": "python3"
  },
  "language_info": {
   "codemirror_mode": {
    "name": "ipython",
    "version": 3
   },
   "file_extension": ".py",
   "mimetype": "text/x-python",
   "name": "python",
   "nbconvert_exporter": "python",
   "pygments_lexer": "ipython3",
   "version": "3.12.0"
  }
 },
 "nbformat": 4,
 "nbformat_minor": 5
}
