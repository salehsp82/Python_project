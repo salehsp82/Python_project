{
 "cells": [
  {
   "cell_type": "code",
   "execution_count": 18,
   "id": "0f62d3bd-ef82-4d50-984f-42d27cfd958c",
   "metadata": {},
   "outputs": [
    {
     "name": "stdout",
     "output_type": "stream",
     "text": [
      ".شاخص توده بدنی یک معیار مهم برای اندازه گیری تناسب قد و وزن است که به کمک ان میتوان از وضعیت وزن مطلع  شد\n"
     ]
    },
    {
     "name": "stdin",
     "output_type": "stream",
     "text": [
      "قد خود را وارد کنید: 182\n",
      "وزن خود را وارد کنید: 65\n"
     ]
    },
    {
     "name": "stdout",
     "output_type": "stream",
     "text": [
      "19.623233908948194\n",
      "وزن سالم\n"
     ]
    }
   ],
   "source": [
    "#BMI\n",
    "def BMI ():\n",
    "    print(\".شاخص توده بدنی یک معیار مهم برای اندازه گیری تناسب قد و وزن است که به کمک ان میتوان از وضعیت وزن مطلع  شد\")\n",
    "\n",
    "    height_value = float(input(\"قد خود را وارد کنید:\"))\n",
    "    weight_value = float(input(\"وزن خود را وارد کنید:\"))\n",
    "    bmi = weight_value/(height_value**2) * 10000\n",
    "    print(bmi)\n",
    "    if bmi <= 18.5:\n",
    "        print(\"کمبود وزن\")\n",
    "    elif 18.5 <= bmi <= 24.5:\n",
    "        print(\"وزن سالم\")\n",
    "    elif 25.0 <= bmi <= 29.9:\n",
    "        print(\"اضافه وزن\")\n",
    "    elif bmi <= 30:\n",
    "        print(\"چاقی\")\n",
    "\n",
    "BMI()"
   ]
  },
  {
   "cell_type": "code",
   "execution_count": null,
   "id": "f08c1e61-3295-4e89-a30b-cac32d2dce4e",
   "metadata": {},
   "outputs": [],
   "source": [
    "#alotamrin.ir"
   ]
  }
 ],
 "metadata": {
  "kernelspec": {
   "display_name": "Python 3 (ipykernel)",
   "language": "python",
   "name": "python3"
  },
  "language_info": {
   "codemirror_mode": {
    "name": "ipython",
    "version": 3
   },
   "file_extension": ".py",
   "mimetype": "text/x-python",
   "name": "python",
   "nbconvert_exporter": "python",
   "pygments_lexer": "ipython3",
   "version": "3.12.0"
  }
 },
 "nbformat": 4,
 "nbformat_minor": 5
}
