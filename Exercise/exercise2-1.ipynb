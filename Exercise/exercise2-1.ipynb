{
 "cells": [
  {
   "cell_type": "code",
   "execution_count": 5,
   "id": "544fa051-256d-4557-89c8-b285b7f02d77",
   "metadata": {},
   "outputs": [
    {
     "name": "stdout",
     "output_type": "stream",
     "text": [
      "Saleh\n",
      "Sampanah\n",
      "20\n",
      "Saleh \n",
      "Sampanah \n",
      "20\n",
      "Saleh\n",
      "Sampanah\n",
      "20\n"
     ]
    }
   ],
   "source": [
    "print(\"Saleh\")\n",
    "print(\"Sampanah\")\n",
    "print(\"20\")\n",
    "print(\"Saleh \\nSampanah \\n20\")\n",
    "print(\"\"\"Saleh\n",
    "Sampanah\n",
    "20\"\"\")"
   ]
  },
  {
   "cell_type": "code",
   "execution_count": null,
   "id": "9e8065a6-57a6-43d1-9cb0-44c6f790177d",
   "metadata": {},
   "outputs": [],
   "source": []
  }
 ],
 "metadata": {
  "kernelspec": {
   "display_name": "Python 3 (ipykernel)",
   "language": "python",
   "name": "python3"
  },
  "language_info": {
   "codemirror_mode": {
    "name": "ipython",
    "version": 3
   },
   "file_extension": ".py",
   "mimetype": "text/x-python",
   "name": "python",
   "nbconvert_exporter": "python",
   "pygments_lexer": "ipython3",
   "version": "3.12.0"
  }
 },
 "nbformat": 4,
 "nbformat_minor": 5
}
