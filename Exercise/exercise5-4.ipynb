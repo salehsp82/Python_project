{
 "cells": [
  {
   "cell_type": "code",
   "execution_count": 11,
   "id": "bd814ec9-ee5f-4933-bf0f-1f55262dc5d3",
   "metadata": {},
   "outputs": [
    {
     "name": "stdout",
     "output_type": "stream",
     "text": [
      "165\n"
     ]
    }
   ],
   "source": [
    "def a4 (x1,a,n,y):\n",
    "    x = x1 - a *(2*(n-y))\n",
    "    print(x)\n",
    "\n",
    "a4(33,22,11,14)\n",
    "\n",
    "#Chat GPT"
   ]
  },
  {
   "cell_type": "code",
   "execution_count": null,
   "id": "07f58152-adc0-44d9-8cb5-0985b6e904b9",
   "metadata": {},
   "outputs": [],
   "source": []
  }
 ],
 "metadata": {
  "kernelspec": {
   "display_name": "Python 3 (ipykernel)",
   "language": "python",
   "name": "python3"
  },
  "language_info": {
   "codemirror_mode": {
    "name": "ipython",
    "version": 3
   },
   "file_extension": ".py",
   "mimetype": "text/x-python",
   "name": "python",
   "nbconvert_exporter": "python",
   "pygments_lexer": "ipython3",
   "version": "3.12.0"
  }
 },
 "nbformat": 4,
 "nbformat_minor": 5
}
