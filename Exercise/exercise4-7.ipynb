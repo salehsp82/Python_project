{
 "cells": [
  {
   "cell_type": "code",
   "execution_count": null,
   "id": "674ea69a-5697-4e4e-a123-0ef7b1a802c6",
   "metadata": {},
   "outputs": [],
   "source": [
    "def ex_7 (x,a):\n",
    "    y=x+a/x"
   ]
  }
 ],
 "metadata": {
  "kernelspec": {
   "display_name": "Python 3 (ipykernel)",
   "language": "python",
   "name": "python3"
  },
  "language_info": {
   "codemirror_mode": {
    "name": "ipython",
    "version": 3
   },
   "file_extension": ".py",
   "mimetype": "text/x-python",
   "name": "python",
   "nbconvert_exporter": "python",
   "pygments_lexer": "ipython3",
   "version": "3.12.0"
  }
 },
 "nbformat": 4,
 "nbformat_minor": 5
}
