{
 "cells": [
  {
   "cell_type": "code",
   "execution_count": 1,
   "id": "6a1201ca-2a8c-4111-a933-cc70a5df3f8f",
   "metadata": {
    "editable": true,
    "slideshow": {
     "slide_type": ""
    },
    "tags": []
   },
   "outputs": [
    {
     "data": {
      "text/plain": [
       "'c'"
      ]
     },
     "execution_count": 1,
     "metadata": {},
     "output_type": "execute_result"
    }
   ],
   "source": [
    "my_dictionary = {'a': 1, 'b': 2, 'c': 3, 'd': 4}\n",
    "target_value = 3\n",
    "\n",
    "def find_value(dictionary, target):\n",
    "    for key, value in dictionary.items():\n",
    "        if value == target:\n",
    "            return key\n",
    "    return None\n",
    "\n",
    "# مثال استفاده از تابع\n",
    "find_value(my_dictionary, target_value)"
   ]
  },
  {
   "cell_type": "code",
   "execution_count": null,
   "id": "3ebec3c6-27b7-43a0-9dd2-0a85a1f68e4c",
   "metadata": {},
   "outputs": [],
   "source": [
    "# Chat GPT"
   ]
  }
 ],
 "metadata": {
  "kernelspec": {
   "display_name": "Python 3 (ipykernel)",
   "language": "python",
   "name": "python3"
  },
  "language_info": {
   "codemirror_mode": {
    "name": "ipython",
    "version": 3
   },
   "file_extension": ".py",
   "mimetype": "text/x-python",
   "name": "python",
   "nbconvert_exporter": "python",
   "pygments_lexer": "ipython3",
   "version": "3.12.0"
  }
 },
 "nbformat": 4,
 "nbformat_minor": 5
}
