{
 "cells": [
  {
   "cell_type": "code",
   "execution_count": 4,
   "id": "3257a505-e6cb-4ec9-a483-12fad2eb00e5",
   "metadata": {},
   "outputs": [
    {
     "name": "stdout",
     "output_type": "stream",
     "text": [
      "0.36237153766973934\n"
     ]
    }
   ],
   "source": [
    "import math\n",
    "\n",
    "def a3 (x,y,t):\n",
    "    w = math.sqrt((x-y)/t)\n",
    "    print(w)\n",
    "    \n",
    "a3(57,44,99)"
   ]
  },
  {
   "cell_type": "code",
   "execution_count": null,
   "id": "1311596d-5a84-4e6e-b7a5-62ab70c1f8ae",
   "metadata": {},
   "outputs": [],
   "source": []
  }
 ],
 "metadata": {
  "kernelspec": {
   "display_name": "Python 3 (ipykernel)",
   "language": "python",
   "name": "python3"
  },
  "language_info": {
   "codemirror_mode": {
    "name": "ipython",
    "version": 3
   },
   "file_extension": ".py",
   "mimetype": "text/x-python",
   "name": "python",
   "nbconvert_exporter": "python",
   "pygments_lexer": "ipython3",
   "version": "3.12.0"
  }
 },
 "nbformat": 4,
 "nbformat_minor": 5
}
