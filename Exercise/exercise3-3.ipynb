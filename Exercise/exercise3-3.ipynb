{
 "cells": [
  {
   "cell_type": "code",
   "execution_count": 36,
   "id": "3d65919d-1375-4a79-8edb-06623dab5762",
   "metadata": {},
   "outputs": [],
   "source": [
    "def e3 (x,y):\n",
    "    z = x / y\n",
    "    print(z)\n",
    "    v = x % y\n",
    "    print(v)"
   ]
  },
  {
   "cell_type": "code",
   "execution_count": 37,
   "id": "dd948a0f-4dd0-481d-90ea-833637c283e1",
   "metadata": {},
   "outputs": [
    {
     "name": "stdout",
     "output_type": "stream",
     "text": [
      "3.3333333333333335\n",
      "1\n"
     ]
    }
   ],
   "source": [
    "e3(10,3)"
   ]
  },
  {
   "cell_type": "code",
   "execution_count": null,
   "id": "ee6e098d-309d-4cbc-ab22-0a8a8a760f8f",
   "metadata": {},
   "outputs": [],
   "source": []
  }
 ],
 "metadata": {
  "kernelspec": {
   "display_name": "Python 3 (ipykernel)",
   "language": "python",
   "name": "python3"
  },
  "language_info": {
   "codemirror_mode": {
    "name": "ipython",
    "version": 3
   },
   "file_extension": ".py",
   "mimetype": "text/x-python",
   "name": "python",
   "nbconvert_exporter": "python",
   "pygments_lexer": "ipython3",
   "version": "3.12.0"
  }
 },
 "nbformat": 4,
 "nbformat_minor": 5
}
