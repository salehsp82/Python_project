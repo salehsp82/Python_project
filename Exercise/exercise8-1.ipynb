{
 "cells": [
  {
   "cell_type": "code",
   "execution_count": 4,
   "id": "d8f81ab3-048c-408a-9339-83e590d1bf20",
   "metadata": {},
   "outputs": [
    {
     "name": "stdout",
     "output_type": "stream",
     "text": [
      "['a', 'm', 's', 1, 11, 22, 44]\n"
     ]
    }
   ],
   "source": [
    "l1 = [1,44,11,22,'s','a','m']\n",
    "\n",
    "l2 = []\n",
    "l3 = []\n",
    "\n",
    "for a in l1:\n",
    "    if isinstance(a,str):\n",
    "        l2.append(a)\n",
    "    elif isinstance(a,int):\n",
    "        l3.append(a)\n",
    "l2.sort()\n",
    "l3.sort()\n",
    "l1 = l2 + l3\n",
    "print(l1)\n",
    "\n",
    "### Chat GPT"
   ]
  },
  {
   "cell_type": "code",
   "execution_count": null,
   "id": "85ab7563-fda4-4595-b78c-6320c45dbadf",
   "metadata": {},
   "outputs": [],
   "source": []
  }
 ],
 "metadata": {
  "kernelspec": {
   "display_name": "Python 3 (ipykernel)",
   "language": "python",
   "name": "python3"
  },
  "language_info": {
   "codemirror_mode": {
    "name": "ipython",
    "version": 3
   },
   "file_extension": ".py",
   "mimetype": "text/x-python",
   "name": "python",
   "nbconvert_exporter": "python",
   "pygments_lexer": "ipython3",
   "version": "3.12.0"
  }
 },
 "nbformat": 4,
 "nbformat_minor": 5
}
