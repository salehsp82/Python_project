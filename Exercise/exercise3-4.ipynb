{
 "cells": [
  {
   "cell_type": "code",
   "execution_count": 3,
   "id": "5ec1f087-8571-47c8-acd4-f0ebf35ce022",
   "metadata": {},
   "outputs": [
    {
     "data": {
      "text/plain": [
       "4.47213595499958"
      ]
     },
     "execution_count": 3,
     "metadata": {},
     "output_type": "execute_result"
    }
   ],
   "source": [
    "import math as m\n",
    "#کتابخانه ای را وارد کردیم برای اجرای عملیات ها ریاضیاتی مختلف و برای راحتی دسترسی یک نام کوتاه برای ان انتخاب کردیم\n",
    "m.sqrt(20)\n",
    "#جزر عدد مورد نظر را با کتابجانه ای که قبلا وارد کرده بودیم گرفتیم"
   ]
  },
  {
   "cell_type": "code",
   "execution_count": null,
   "id": "2bc13a5f-1547-4279-b01b-fc36d0896422",
   "metadata": {},
   "outputs": [],
   "source": []
  }
 ],
 "metadata": {
  "kernelspec": {
   "display_name": "Python 3 (ipykernel)",
   "language": "python",
   "name": "python3"
  },
  "language_info": {
   "codemirror_mode": {
    "name": "ipython",
    "version": 3
   },
   "file_extension": ".py",
   "mimetype": "text/x-python",
   "name": "python",
   "nbconvert_exporter": "python",
   "pygments_lexer": "ipython3",
   "version": "3.12.0"
  }
 },
 "nbformat": 4,
 "nbformat_minor": 5
}
