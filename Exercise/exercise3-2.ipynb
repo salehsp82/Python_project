{
 "cells": [
  {
   "cell_type": "code",
   "execution_count": 1,
   "id": "788e0c88-fcc8-43e2-9172-885ccfdfc22f",
   "metadata": {},
   "outputs": [],
   "source": [
    "def calculate_dv_dt(t, v, vr):\n",
    "    dv_dt = (-1 / t) * (v - vr)\n",
    "    return dv_dt"
   ]
  },
  {
   "cell_type": "code",
   "execution_count": 2,
   "id": "fdf90c9c-79e5-4947-93cf-b3db88cef690",
   "metadata": {},
   "outputs": [
    {
     "name": "stdout",
     "output_type": "stream",
     "text": [
      "dv_dt = -1.25\n"
     ]
    }
   ],
   "source": [
    "# نمونه استفاده از تابع\n",
    "t = 2.0\n",
    "v = 3.5\n",
    "vr = 1.0\n",
    "result = calculate_dv_dt(t, v, vr)\n",
    "print(\"dv_dt =\", result)"
   ]
  },
  {
   "cell_type": "code",
   "execution_count": null,
   "id": "fb11620c-b708-4129-89bc-5619b7e510c7",
   "metadata": {},
   "outputs": [],
   "source": [
    "# ChatGPT"
   ]
  }
 ],
 "metadata": {
  "kernelspec": {
   "display_name": "Python 3 (ipykernel)",
   "language": "python",
   "name": "python3"
  },
  "language_info": {
   "codemirror_mode": {
    "name": "ipython",
    "version": 3
   },
   "file_extension": ".py",
   "mimetype": "text/x-python",
   "name": "python",
   "nbconvert_exporter": "python",
   "pygments_lexer": "ipython3",
   "version": "3.12.0"
  }
 },
 "nbformat": 4,
 "nbformat_minor": 5
}
