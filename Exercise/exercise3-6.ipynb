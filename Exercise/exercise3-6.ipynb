{
 "cells": [
  {
   "cell_type": "code",
   "execution_count": 11,
   "id": "f2330d6f-9ae0-4acd-abf0-1ea3dc492d89",
   "metadata": {},
   "outputs": [
    {
     "data": {
      "text/plain": [
       "2"
      ]
     },
     "execution_count": 11,
     "metadata": {},
     "output_type": "execute_result"
    }
   ],
   "source": [
    "'a' and 2\n",
    "#وقتی از عملگر اند استفاده می کنیم هر دو عبارت ارزیابی می شوند اگر هر دو عبارت غیر صفر و غیر خالی باشند ارزیابی به اخرین عبارت یک مقدار غیر خالی و 2 یک مقدار غیر ای می رسد در این حالت صفر است بنابرین ارزیابی به 2 میرسد و خروجی 2 است"
   ]
  },
  {
   "cell_type": "code",
   "execution_count": 10,
   "id": "9977b383-6c51-417f-b872-85956da2e711",
   "metadata": {},
   "outputs": [
    {
     "data": {
      "text/plain": [
       "'a'"
      ]
     },
     "execution_count": 10,
     "metadata": {},
     "output_type": "execute_result"
    }
   ],
   "source": [
    "'a' or 2\n",
    "#وقتی از عملگر اور استفاده می کنیم هر دو عبارت ارزیابی می شوند اگر هر دو عبارت غیر صفر و غیر خالی باشند ارزیابی به اخرین عبارت یک مقدار غیر خالی است در این حالت  بنابرین ارزیابی به ای میرسد و خروجی ای است"
   ]
  },
  {
   "cell_type": "code",
   "execution_count": null,
   "id": "b764e419-98dd-4e62-b272-b82f8b82c81d",
   "metadata": {},
   "outputs": [],
   "source": []
  }
 ],
 "metadata": {
  "kernelspec": {
   "display_name": "Python 3 (ipykernel)",
   "language": "python",
   "name": "python3"
  },
  "language_info": {
   "codemirror_mode": {
    "name": "ipython",
    "version": 3
   },
   "file_extension": ".py",
   "mimetype": "text/x-python",
   "name": "python",
   "nbconvert_exporter": "python",
   "pygments_lexer": "ipython3",
   "version": "3.12.0"
  }
 },
 "nbformat": 4,
 "nbformat_minor": 5
}
