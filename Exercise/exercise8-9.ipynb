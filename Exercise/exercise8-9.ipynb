{
 "cells": [
  {
   "cell_type": "code",
   "execution_count": 1,
   "id": "dfed83e1-64f8-4ed4-a2ea-683eb4b34d93",
   "metadata": {},
   "outputs": [
    {
     "name": "stdout",
     "output_type": "stream",
     "text": [
      "[1, 5, 6, 7, 8, 9]\n"
     ]
    }
   ],
   "source": [
    "l1 = [1,5,6]\n",
    "l2 = [7,8,9]\n",
    "\n",
    "l3 = l1 + l2\n",
    "l3.sort()\n",
    "\n",
    "print(l3)"
   ]
  },
  {
   "cell_type": "code",
   "execution_count": 7,
   "id": "858c6faa-3da0-4314-9bf1-0936a9b924e8",
   "metadata": {},
   "outputs": [
    {
     "name": "stdout",
     "output_type": "stream",
     "text": [
      "['my', 'name', 'iis', 'amin']\n"
     ]
    }
   ],
   "source": [
    "l1 = [\"m\", \"na\", \"i\", \"am\"]\n",
    "l2 = [\"y\", \"me\", \"is\", \"in\"]\n",
    "\n",
    "l3 = []\n",
    "\n",
    "for a, b in zip(l1, l2):\n",
    "    l3.append(a + b)\n",
    "\n",
    "print(l3)"
   ]
  },
  {
   "cell_type": "code",
   "execution_count": null,
   "id": "e585fa8e-cb25-4a34-8a86-9d67d1b2949f",
   "metadata": {},
   "outputs": [],
   "source": [
    "### Chat GPT"
   ]
  }
 ],
 "metadata": {
  "kernelspec": {
   "display_name": "Python 3 (ipykernel)",
   "language": "python",
   "name": "python3"
  },
  "language_info": {
   "codemirror_mode": {
    "name": "ipython",
    "version": 3
   },
   "file_extension": ".py",
   "mimetype": "text/x-python",
   "name": "python",
   "nbconvert_exporter": "python",
   "pygments_lexer": "ipython3",
   "version": "3.12.0"
  }
 },
 "nbformat": 4,
 "nbformat_minor": 5
}
