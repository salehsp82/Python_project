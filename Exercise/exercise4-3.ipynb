{
 "cells": [
  {
   "cell_type": "code",
   "execution_count": 11,
   "id": "fcb65dfa-f489-4e2a-8e54-1ecde8d1a874",
   "metadata": {},
   "outputs": [],
   "source": [
    "def ex_3 (x,y):\n",
    "    if (y % x):\n",
    "        print(\"false\")\n",
    "    else:\n",
    "        print(\"true\")"
   ]
  },
  {
   "cell_type": "code",
   "execution_count": 10,
   "id": "49dd4ae9-af71-4893-a9e8-d51b6b9b0866",
   "metadata": {},
   "outputs": [
    {
     "name": "stdout",
     "output_type": "stream",
     "text": [
      "false\n"
     ]
    }
   ],
   "source": [
    "ex_3(15,45)"
   ]
  },
  {
   "cell_type": "code",
   "execution_count": null,
   "id": "a8453256-cec2-4383-9a5b-8532759d72d1",
   "metadata": {},
   "outputs": [],
   "source": []
  }
 ],
 "metadata": {
  "kernelspec": {
   "display_name": "Python 3 (ipykernel)",
   "language": "python",
   "name": "python3"
  },
  "language_info": {
   "codemirror_mode": {
    "name": "ipython",
    "version": 3
   },
   "file_extension": ".py",
   "mimetype": "text/x-python",
   "name": "python",
   "nbconvert_exporter": "python",
   "pygments_lexer": "ipython3",
   "version": "3.12.0"
  }
 },
 "nbformat": 4,
 "nbformat_minor": 5
}
